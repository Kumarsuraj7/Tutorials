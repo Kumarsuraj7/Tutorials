{
  "nbformat": 4,
  "nbformat_minor": 0,
  "metadata": {
    "colab": {
      "provenance": [],
      "toc_visible": true,
      "authorship_tag": "ABX9TyMY821qPNp/bSxjmgR5MLVL",
      "include_colab_link": true
    },
    "kernelspec": {
      "name": "python3",
      "display_name": "Python 3"
    },
    "language_info": {
      "name": "python"
    }
  },
  "cells": [
    {
      "cell_type": "markdown",
      "metadata": {
        "id": "view-in-github",
        "colab_type": "text"
      },
      "source": [
        "<a href=\"https://colab.research.google.com/github/Kumarsuraj7/Tutorials/blob/main/NLPTopicModelling.ipynb\" target=\"_parent\"><img src=\"https://colab.research.google.com/assets/colab-badge.svg\" alt=\"Open In Colab\"/></a>"
      ]
    },
    {
      "cell_type": "markdown",
      "source": [
        "**Topic Modelling:**\n",
        "\n",
        "The purpose of this NLP step is to understand the topics in input data and those topics help to analyze the context of the articles or documents. This step will also further help in data labeling needs using the topics generated in this step across each set of similar documents.\n",
        "\n",
        "The main purpose of this unsupervised statistical modeling algorithm is to understand the topics in the input data (text).\n",
        "\n",
        "Algorithm used:\n",
        "1. LDA: Latent Dirichlet Allocation - Suitable to small dataset\n",
        "2. NMF: Non Negative Matrix Factorization - Suitable for larger dataset comperativelly faster than LDA"
      ],
      "metadata": {
        "id": "a-MNFWg9sA1r"
      }
    },
    {
      "cell_type": "markdown",
      "source": [
        "Tutorials URLs\n",
        "\n",
        "\n",
        "1.   https://towardsdatascience.com/topic-modelling-f51e5ebfb40a\n",
        "2.   https://nlpforhackers.io/topic-modeling/\n",
        "3.   https://www.pluralsight.com/guides/topic-identification-nlp\n",
        "4.   Overview - https://www.analyticsvidhya.com/blog/2021/05/topic-modelling-in-natural-language-processing/\n",
        "5.   LDA - https://www.kdnuggets.com/2019/09/overview-topics-extraction-python-latent-dirichlet-allocation.html\n",
        "6. NLP Preprocessing Steps: https://www.analyticsvidhya.com/blog/2021/06/must-known-techniques-for-text-preprocessing-in-nlp/\n",
        "7. Feature Extraction - https://www.analyticsvidhya.com/blog/2022/05/a-complete-guide-on-feature-extraction-techniques/\n",
        "8. Tokenization : https://www.analyticsvidhya.com/blog/2020/05/what-is-tokenization-nlp/"
      ],
      "metadata": {
        "id": "lDef2EpRrlki"
      }
    },
    {
      "cell_type": "markdown",
      "source": [
        "*   Learning Rate: https://www.mygreatlearning.com/blog/understanding-learning-rate-in-machine-learning/\n",
        "*   Drift: https://arize.com/model-drift/#!\n",
        "*   Drift: https://www.youtube.com/watch?v=HSjMXy_tq_Y&list=PLxkFdMSHYh3Q1jwpgJJ0ZSnRzZIx2c_KM&index=4&ab_channel=Splunk\n",
        "\n",
        "\n",
        "\n"
      ],
      "metadata": {
        "id": "tp21AhXyFUB0"
      }
    },
    {
      "cell_type": "code",
      "execution_count": null,
      "metadata": {
        "id": "885gigtwHoaN"
      },
      "outputs": [],
      "source": [
        " "
      ]
    },
    {
      "cell_type": "code",
      "source": [],
      "metadata": {
        "id": "N_IRhCZXHvLD"
      },
      "execution_count": null,
      "outputs": []
    },
    {
      "cell_type": "code",
      "source": [],
      "metadata": {
        "id": "Mx0H-e0tHvN-"
      },
      "execution_count": null,
      "outputs": []
    },
    {
      "cell_type": "code",
      "source": [],
      "metadata": {
        "id": "BNmAfXEkHvRJ"
      },
      "execution_count": null,
      "outputs": []
    },
    {
      "cell_type": "code",
      "source": [],
      "metadata": {
        "id": "QAZZq0ayHvT8"
      },
      "execution_count": null,
      "outputs": []
    },
    {
      "cell_type": "code",
      "source": [],
      "metadata": {
        "id": "GzluNno1HvWl"
      },
      "execution_count": null,
      "outputs": []
    },
    {
      "cell_type": "code",
      "source": [],
      "metadata": {
        "id": "eAI-aVQ8HvaE"
      },
      "execution_count": null,
      "outputs": []
    }
  ]
}